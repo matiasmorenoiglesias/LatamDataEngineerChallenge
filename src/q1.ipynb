{
 "cells": [
  {
   "cell_type": "markdown",
   "metadata": {},
   "source": [
    "# Introducción\n",
    "En el presente documento se explicará el desarrollo de `Las top 10 fechas donde hay más tweets. Mencionar el usuario (username) que más publicaciones tiene por cada uno de esos días.` En terminos de optimización de tiempo `(q1_time.py)` y memoria `(q1_memory.py)` en la ejecución del programa.\n",
    "\n",
    "# Primeros Pasos\n",
    "- Se debe crear el ambiente virtual con el siguiente comando"
   ]
  },
  {
   "cell_type": "code",
   "execution_count": 4,
   "metadata": {},
   "outputs": [
    {
     "name": "stderr",
     "output_type": "stream",
     "text": [
      "Makefile:19: *** missing separator.  Stop.\n"
     ]
    }
   ],
   "source": [
    "%%bash\n",
    "cd ../\n",
    "make env"
   ]
  },
  {
   "cell_type": "markdown",
   "metadata": {},
   "source": [
    "## Desarrollos\n",
    "En esta seccion se realizá la comparación entre el enfoque de optimizacion de memoria vs el enfoque de optimizacion de tiempo de ejecución del caso de uso. Para estas pruebas emplearemos la carga del archivo de tweets presente en este desafio, el cual, se encuentra almacenado en `./data/data.json`.\n",
    "### Enfoque en Optimización de Memoria\n",
    "Para este proceso ejecutaremos el archivo `src/q1_memory.py`. con el siguiente comando:"
   ]
  },
  {
   "cell_type": "code",
   "execution_count": 19,
   "metadata": {},
   "outputs": [
    {
     "name": "stdout",
     "output_type": "stream",
     "text": [
      "rm -f output/q1_memory.dat\n",
      ". venv/bin/activate && mprof run --output output/q1_memory.dat /Users/mac/Documents/challenge_DE/venv/bin/python3.8 src/q1_memory.py\n",
      "mprof: Sampling memory every 0.1s\n",
      "running new process\n",
      "Filename: src/q1_memory.py\n",
      "\n",
      "Line #    Mem usage    Increment  Occurrences   Line Contents\n",
      "=============================================================\n",
      "     9     44.5 MiB     44.5 MiB           1   @profile\n",
      "    10                                         def q1_memory(file_path: str) -> List[Tuple[datetime.date, str]]:\n",
      "    11                                             # Función para procesar cada tweet y devolver la fecha y el nombre de usuario\n",
      "    12                                             \n",
      "    13     45.2 MiB      0.3 MiB      117408       def process_tweet(tweet):\n",
      "    14     45.2 MiB      0.0 MiB      117407           fecha = datetime.fromisoformat(tweet[\"date\"]).date()\n",
      "    15     45.2 MiB      0.0 MiB      117407           usuario = tweet[\"user\"][\"username\"]\n",
      "    16     45.2 MiB      0.0 MiB      117407           return fecha, usuario\n",
      "    17                                         \n",
      "    18                                             # Función para leer los tweets del archivo y aplicar el procesamiento\n",
      "    19     44.5 MiB      0.0 MiB           2       def read_tweets(file_path):\n",
      "    20     44.5 MiB      0.0 MiB           1           with open(file_path, 'r', encoding='utf-8') as file:\n",
      "    21     45.2 MiB      0.4 MiB      117408               for line in file:\n",
      "    22     45.2 MiB      0.0 MiB      234814                   yield process_tweet(json.loads(line))\n",
      "    23                                         \n",
      "    24                                             # Diccionario para almacenar la cantidad total de tweets por día y el usuario con más tweets\n",
      "    25     44.5 MiB      0.0 MiB           1       tweets_por_dia = {}\n",
      "    26     45.2 MiB      0.0 MiB          27       usuario_mas_tweets: defaultdict = defaultdict(lambda: {'total_tweets': 0, 'max_tweets': 0, 'usuario_mas_tweets': None})\n",
      "    27                                         \n",
      "    28                                             # Procesar cada tweet y actualizar los contadores\n",
      "    29     45.2 MiB      0.0 MiB      117408       for fecha, usuario in read_tweets(file_path):\n",
      "    30                                                 # Actualizar el total de tweets para este día\n",
      "    31     45.2 MiB      0.0 MiB      117407           if fecha not in tweets_por_dia:\n",
      "    32     45.2 MiB      0.0 MiB          13               tweets_por_dia[fecha] = 0\n",
      "    33     45.2 MiB      0.0 MiB      117407           tweets_por_dia[fecha] += 1\n",
      "    34                                         \n",
      "    35                                                 # Actualizar el contador de tweets por usuario y determinar el usuario con más tweets para este día\n",
      "    36     45.2 MiB      0.0 MiB      117407           current_data = usuario_mas_tweets[fecha]\n",
      "    37     45.2 MiB      0.0 MiB      117407           current_data['total_tweets'] += 1\n",
      "    38     45.2 MiB      0.0 MiB      117407           if current_data['usuario_mas_tweets'] is None:\n",
      "    39     45.2 MiB      0.0 MiB          13               current_data['usuario_mas_tweets'] = usuario\n",
      "    40     45.2 MiB      0.0 MiB          13               current_data['max_tweets'] = 1\n",
      "    41     45.2 MiB      0.0 MiB      117394           elif usuario == current_data['usuario_mas_tweets']:\n",
      "    42     45.2 MiB      0.0 MiB         410               current_data['max_tweets'] += 1\n",
      "    43     45.2 MiB      0.0 MiB      116984           elif current_data['max_tweets'] == 1:\n",
      "    44     45.2 MiB      0.0 MiB         412               current_data['usuario_mas_tweets'] = usuario\n",
      "    45                                         \n",
      "    46                                             # Obtener los top_n días con más tweets\n",
      "    47     45.2 MiB      0.0 MiB          27       sorted_days = sorted(tweets_por_dia.items(), key=lambda item: item[1], reverse=True)[:10]\n",
      "    48                                         \n",
      "    49                                             # Retornar los resultados en el formato solicitado\n",
      "    50     45.2 MiB      0.0 MiB          13       return [(fecha, usuario_mas_tweets[fecha]['usuario_mas_tweets']) for fecha, _ in sorted_days]\n",
      "\n",
      "\n",
      "[(datetime.date(2021, 2, 12), 'Gurpreetd86'), (datetime.date(2021, 2, 13), 'rebelpacifist'), (datetime.date(2021, 2, 17), 'rebelpacifist'), (datetime.date(2021, 2, 16), 'MovimentoGhadar'), (datetime.date(2021, 2, 14), 'jot__b'), (datetime.date(2021, 2, 18), 'partLvis'), (datetime.date(2021, 2, 15), 'Farmer22006851'), (datetime.date(2021, 2, 20), 'Kamalbagga15'), (datetime.date(2021, 2, 23), 'KaurDosanjh1979'), (datetime.date(2021, 2, 19), 'jot__b')]\n",
      "Tiempo de ejecución: 29.89084219932556 segundos\n"
     ]
    }
   ],
   "source": [
    "%%bash\n",
    "cd ../\n",
    "source ./venv/bin/activate\n",
    "make memprofile file=q1_memory"
   ]
  },
  {
   "cell_type": "markdown",
   "metadata": {},
   "source": [
    "Obteniendo un resultado de memoria (esta información la encontrada en el archivo ./output/q1_memory.dat)\n",
    "- 0.187500 MiB (Minimo)\n",
    "- 45.234375 MiB (Maximo)\n",
    "\n",
    "Resultado de Funcionalidad:\n",
    "- `[(datetime.date(2021, 2, 12), 'Gurpreetd86'), (datetime.date(2021, 2, 13), 'rebelpacifist'), (datetime.date(2021, 2, 17), 'rebelpacifist'), (datetime.date(2021, 2, 16), 'MovimentoGhadar'), (datetime.date(2021, 2, 14), 'jot__b'), (datetime.date(2021, 2, 18), 'partLvis'), (datetime.date(2021, 2, 15), 'Farmer22006851'), (datetime.date(2021, 2, 20), 'Kamalbagga15'), (datetime.date(2021, 2, 23), 'KaurDosanjh1979'), (datetime.date(2021, 2, 19), 'jot__b')]`\n",
    "\n",
    "Resultado de tiempo de ejecución: \n",
    "- `29.89084219932556 segundos.`"
   ]
  },
  {
   "cell_type": "markdown",
   "metadata": {},
   "source": [
    "### Enfoque en Optimización de Tiempo\n",
    "Para este proceso ejecutaremos el archivo `src/q1_time.py`. con el siguiente comando:"
   ]
  },
  {
   "cell_type": "code",
   "execution_count": 20,
   "metadata": {},
   "outputs": [
    {
     "name": "stdout",
     "output_type": "stream",
     "text": [
      "rm -f output/q1_time.dat\n",
      ". venv/bin/activate && mprof run --output output/q1_time.dat /Users/mac/Documents/challenge_DE/venv/bin/python3.8 src/q1_time.py\n",
      "mprof: Sampling memory every 0.1s\n",
      "running new process\n"
     ]
    },
    {
     "name": "stderr",
     "output_type": "stream",
     "text": [
      "WARNING: An illegal reflective access operation has occurred\n",
      "WARNING: Illegal reflective access by org.apache.spark.unsafe.Platform (file:/Users/mac/Documents/challenge_DE/venv/lib/python3.8/site-packages/pyspark/jars/spark-unsafe_2.12-3.1.1.jar) to constructor java.nio.DirectByteBuffer(long,int)\n",
      "WARNING: Please consider reporting this to the maintainers of org.apache.spark.unsafe.Platform\n",
      "WARNING: Use --illegal-access=warn to enable warnings of further illegal reflective access operations\n",
      "WARNING: All illegal access operations will be denied in a future release\n",
      "24/07/07 20:59:57 WARN NativeCodeLoader: Unable to load native-hadoop library for your platform... using builtin-java classes where applicable\n",
      "Using Spark's default log4j profile: org/apache/spark/log4j-defaults.properties\n",
      "Setting default log level to \"WARN\".\n",
      "To adjust logging level use sc.setLogLevel(newLevel). For SparkR, use setLogLevel(newLevel).\n"
     ]
    },
    {
     "name": "stdout",
     "output_type": "stream",
     "text": [
      "Filename: src/q1_time.py\n",
      "\n",
      "Line #    Mem usage    Increment  Occurrences   Line Contents\n",
      "=============================================================\n",
      "     9     60.7 MiB     60.7 MiB           1   @profile\n",
      "    10                                         def q1_time(file_path: str):\n",
      "    11                                               # Iniciar la sesión de Spark\n",
      "    12     61.5 MiB      0.8 MiB           4       spark = SparkSession.builder \\\n",
      "    13     60.7 MiB      0.0 MiB           1           .appName(\"TwitterDataProcessing\") \\\n",
      "    14     60.7 MiB      0.0 MiB           1           .config(\"spark.executor.memory\", \"2g\") \\\n",
      "    15     60.7 MiB      0.0 MiB           1           .config(\"spark.python.profile.memory\", True) \\\n",
      "    16                                                 .getOrCreate()\n",
      "    17                                         \n",
      "    18                                             # Leer el archivo JSON\n",
      "    19     61.5 MiB      0.0 MiB           1       df = spark.read.json(file_path)\n",
      "    20                                         \n",
      "    21                                             # Extraer la fecha y el usuario\n",
      "    22     61.5 MiB      0.0 MiB           2       df = df.withColumn(\"fecha\", date_format(col(\"date\"), 'yyyy-MM-dd')) \\\n",
      "    23     61.5 MiB      0.0 MiB           1              .withColumn(\"usuario\", col(\"user.username\"))\n",
      "    24                                         \n",
      "    25                                             # Contar los tweets por día y usuario\n",
      "    26     61.5 MiB      0.0 MiB           1       tweet_counts = df.groupBy(\"fecha\", \"usuario\").count()\n",
      "    27                                         \n",
      "    28                                             # Obtener los días con más tweets\n",
      "    29     61.5 MiB      0.0 MiB           1       top_days = tweet_counts.groupBy(\"fecha\").sum(\"count\").orderBy(\"sum(count)\", ascending=False).limit(10)\n",
      "    30                                         \n",
      "    31                                             # Ventana para obtener el usuario con más tweets por día\n",
      "    32     61.5 MiB      0.0 MiB           1       window_spec = Window.partitionBy(\"fecha\").orderBy(col(\"count\").desc())\n",
      "    33                                         \n",
      "    34                                             # Agregar el ranking de usuarios por número de tweets\n",
      "    35     61.5 MiB      0.0 MiB           1       ranked_users = tweet_counts.withColumn(\"rank\", F.rank().over(window_spec))\n",
      "    36                                         \n",
      "    37                                             # Filtrar para obtener solo los usuarios con más tweets por día\n",
      "    38     61.5 MiB      0.0 MiB           1       top_users = ranked_users.filter(col(\"rank\") == 1).select(\"fecha\", \"usuario\")\n",
      "    39                                         \n",
      "    40                                             # Unir los días con más tweets con los usuarios con más tweets en esos días\n",
      "    41     61.5 MiB      0.0 MiB           1       result_df = top_days.join(top_users, \"fecha\").select(\"fecha\", \"usuario\")\n",
      "    42                                         \n",
      "    43                                             # Convertir a formato de salida esperado\n",
      "    44     61.8 MiB      0.3 MiB          13       result = [(row.fecha, row.usuario) for row in result_df.collect()]\n",
      "    45                                         \n",
      "    46                                             # Detener la sesión de Spark\n",
      "    47     61.8 MiB     -0.0 MiB           1       spark.stop()\n",
      "    48                                         \n",
      "    49     61.8 MiB      0.0 MiB           1       return result\n",
      "\n",
      "\n",
      "[('2021-02-18', 'neetuanjle_nitu'), ('2021-02-13', 'MaanDee08215437'), ('2021-02-17', 'RaaJVinderkaur'), ('2021-02-16', 'jot__b'), ('2021-02-20', 'MangalJ23056160'), ('2021-02-14', 'Gurpreetd86'), ('2021-02-15', 'jot__b'), ('2021-02-23', 'preetysaini321'), ('2021-02-19', 'Preetm91'), ('2021-02-12', 'rebelpacifist')]\n",
      "Tiempo de ejecución: 15.270632982254028 segundos\n"
     ]
    },
    {
     "name": "stderr",
     "output_type": "stream",
     "text": [
      "                                                                                \r"
     ]
    }
   ],
   "source": [
    "%%bash\n",
    "cd ../\n",
    "source ./venv/bin/activate\n",
    "make memprofile file=q1_time"
   ]
  },
  {
   "cell_type": "markdown",
   "metadata": {},
   "source": [
    "Obteniendo un resultado de memoria (esta información la encontrada en el archivo ./output/q1_time.dat)\n",
    "- 0.203125 MiB (Minimo)\n",
    "- 61.843750 MiB (Maximo)\n",
    "\n",
    "Resultado de Funcionalidad:\n",
    "- `[('2021-02-18', 'neetuanjle_nitu'), ('2021-02-13', 'MaanDee08215437'), ('2021-02-17', 'RaaJVinderkaur'), ('2021-02-16', 'jot__b'), ('2021-02-20', 'MangalJ23056160'), ('2021-02-14', 'Gurpreetd86'), ('2021-02-15', 'jot__b'), ('2021-02-23', 'preetysaini321'), ('2021-02-19', 'Preetm91'), ('2021-02-12', 'rebelpacifist')]`\n",
    "\n",
    "Resultado de tiempo de ejecución: \n",
    "- `15.270632982254028 segundos`"
   ]
  }
 ],
 "metadata": {
  "kernelspec": {
   "display_name": "venv",
   "language": "python",
   "name": "python3"
  },
  "language_info": {
   "codemirror_mode": {
    "name": "ipython",
    "version": 3
   },
   "file_extension": ".py",
   "mimetype": "text/x-python",
   "name": "python",
   "nbconvert_exporter": "python",
   "pygments_lexer": "ipython3",
   "version": "3.12.3"
  }
 },
 "nbformat": 4,
 "nbformat_minor": 2
}
