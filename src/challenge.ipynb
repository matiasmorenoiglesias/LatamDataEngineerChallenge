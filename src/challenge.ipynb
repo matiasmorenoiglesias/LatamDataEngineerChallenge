{
 "cells": [
  {
   "cell_type": "markdown",
   "metadata": {},
   "source": [
    "## Descripción del proyecto\n",
    "Bienvenido al `Desarrollo del Challenge: Ingenieros de Datos`. En esta ocasión, explicaré el desarrollo en profundidad de las siguientes funcionalidades:\n",
    "- Los top 10 emojis más usados con su respectivo conteo. Ubicado en ...\n",
    "- Los top 10 emojis más usados con su respectivo conteo. Ubicado en ...\n",
    "- El top 10 histórico de usuarios (username) más influyentes en función del conteo de las menciones (@) que registra cada uno de ellos. Ubicado en ...\n",
    "\n",
    "## Recomendaciones\n",
    "- Es importante que revise la sección de `Uso de Comandos` para clarificar el uso de los comandos que se usan en las respectiva documentacion de las funcionalidades solicitadas en el Challenge.\n",
    "- Se recomienda leer este archivo completo antes de leer los documentos del desarrollo de funcionalidades.\n",
    "- Este proyecto se hizo basado en la version de python 3.8. Se Recomienda el uso de esta version para lograr el mismo resultado. Por ello, el binario de python a ejecutar debe ser similar a `/opt/homebrew/bin/python3.8`. Ademas debe ser seteado en la variable de entorno `PYTHON_BIN` del archivo `Makefile` situado en la raíz del proyecto.\n",
    "- Si tiene algun problema o alguna duda en la ejecución de este proyecto. Favor, contactarme a través de [LinkedIn](https://www.linkedin.com/in/matias-moreno-iglesias/) 😃."
   ]
  },
  {
   "cell_type": "markdown",
   "metadata": {},
   "source": [
    "## Uso de Comandos\n",
    "- En este proyecto se realizo la automatización de algunas funciones para la facilidad en el manejo de depenencias y procesos de perfilados de codigo, tanto a nivel de tiempos de ejecucción, memoria utilizada (GIL, Active, Thread y Procesos).\n",
    "- Para la ejecucción de todos los comandos se debe ejecutar esta linea de codigo previamente `cd ../` . Esto debido a que el archivo de automatización se encuentra por fuera de directorio de codigo fuente.\n",
    "- Por ultimo se debe especificar el tipo de codigo que ejecutaremos `(bash)`. Por ende se debe añadir la simbologia `%%bash` previamente en la ejecucción de comandos Make ejecutados desde Jupyter Notebooks."
   ]
  },
  {
   "cell_type": "markdown",
   "metadata": {},
   "source": [
    "### Command: Creación de ambiente virtual de python\n",
    "`make env`\n",
    "#### Descripción\n",
    "Para crear el ambiente virtual debes ejecutar este comando `make env`. Este mando generará el ambiente virtual de python ademas de instalar las dependencias especificadas en el `requirements.txt`\n",
    "#### Ejemplo\n",
    "En este ejemplo se inicializará el ambiente virtual"
   ]
  },
  {
   "cell_type": "code",
   "execution_count": null,
   "metadata": {},
   "outputs": [
    {
     "name": "stdout",
     "output_type": "stream",
     "text": [
      "python3.8  -m venv ./venv\n",
      ". venv/bin/activate && pip install -r requirements.txt\n",
      "Requirement already satisfied: memory-profiler==0.61.0 in ./venv/lib/python3.8/site-packages (from -r requirements.txt (line 1)) (0.61.0)\n",
      "Requirement already satisfied: psutil==6.0.0 in ./venv/lib/python3.8/site-packages (from -r requirements.txt (line 2)) (6.0.0)\n",
      "Requirement already satisfied: py-spy==0.3.14 in ./venv/lib/python3.8/site-packages (from -r requirements.txt (line 3)) (0.3.14)\n",
      "Requirement already satisfied: python-dateutil==2.9.0.post0 in ./venv/lib/python3.8/site-packages (from -r requirements.txt (line 4)) (2.9.0.post0)\n",
      "Requirement already satisfied: six==1.16.0 in ./venv/lib/python3.8/site-packages (from -r requirements.txt (line 5)) (1.16.0)\n"
     ]
    },
    {
     "name": "stderr",
     "output_type": "stream",
     "text": [
      "\u001b[33mWARNING: There was an error checking the latest version of pip.\u001b[0m\u001b[33m\n",
      "\u001b[0m"
     ]
    }
   ],
   "source": [
    "%%bash\n",
    "cd ../\n",
    "make env"
   ]
  },
  {
   "cell_type": "markdown",
   "metadata": {},
   "source": [
    "### Command: Instalación de Dependencias\n",
    "``` make add-pkg package=<nombre-de-dependencia> version=<version-de-dependencia> ```\n",
    "#### Descripción\n",
    "Este comando realiza la instalación de la dependencia con su versión correspondiente y la añade al archivo requirements.txt para su versionamiento.\n",
    "#### Argumentos\n",
    "- `package:` argumento que define el nombre de la dependencia a instalar.\n",
    "- `version:` argumento que define la version de la dependencia a instalar.\n",
    "#### Ejemplo\n",
    "En el siguiente ejemplo se instalará `pyspark` en su versión `3.5.1`."
   ]
  },
  {
   "cell_type": "code",
   "execution_count": 1,
   "metadata": {},
   "outputs": [
    {
     "name": "stdout",
     "output_type": "stream",
     "text": [
      ". venv/bin/activate && pip install pyspark==3.5.1 && pip freeze > requirements.txt\n",
      "Requirement already satisfied: pyspark==3.5.1 in ./venv/lib/python3.8/site-packages (3.5.1)\n",
      "Requirement already satisfied: py4j==0.10.9.7 in ./venv/lib/python3.8/site-packages (from pyspark==3.5.1) (0.10.9.7)\n"
     ]
    }
   ],
   "source": [
    "%%bash\n",
    "cd ../\n",
    "make add-pkg package=pyspark version=3.5.1"
   ]
  },
  {
   "cell_type": "markdown",
   "metadata": {},
   "source": [
    "### Command: Perfilamiento de Memoria\n",
    "`make memprofile file=<nombre-del-archivo>`\n",
    "#### Descripción\n",
    "Este comando se encarga de realizar un perfilamiento de nivel de memoria.\n",
    "#### Argumentos\n",
    "- `file:` argumento que define el nombre del archivo que se perfilará. `No contener tener la ruta ni la extensión .py`\n",
    "#### Consideraciones\n",
    "- se debe crear una carpeta con el nombre `output` en la raiz del proyecto.\n",
    "- como output dejara un archivo con `<nombre-de archivo>.dat` con el resultado del perfilamiento de memoria consumida.\n",
    "- en el proceso ademas indicará en la terminal indicadores como GIL, Active, Thread y Procesos usados por el componente de software.\n",
    "#### Ejemplo\n",
    "En el siguiente ejemplo se empleará el perfilamiento del archivo q1_time.py"
   ]
  },
  {
   "cell_type": "code",
   "execution_count": 2,
   "metadata": {},
   "outputs": [
    {
     "name": "stdout",
     "output_type": "stream",
     "text": [
      "rm -f output/q1_time.dat\n",
      ". venv/bin/activate && mprof run --output output/q1_time.dat python3.8  src/q1_time.py\n",
      "mprof: Sampling memory every 0.1s\n",
      "running new process\n"
     ]
    },
    {
     "name": "stderr",
     "output_type": "stream",
     "text": [
      "Setting default log level to \"WARN\".\n",
      "To adjust logging level use sc.setLogLevel(newLevel). For SparkR, use setLogLevel(newLevel).\n",
      "24/07/07 17:25:29 WARN NativeCodeLoader: Unable to load native-hadoop library for your platform... using builtin-java classes where applicable\n"
     ]
    },
    {
     "name": "stdout",
     "output_type": "stream",
     "text": [
      "Filename: src/q1_time.py\n",
      "\n",
      "Line #    Mem usage    Increment  Occurrences   Line Contents\n",
      "=============================================================\n",
      "     9     62.9 MiB     62.9 MiB           1   @profile\n",
      "    10                                         def q1_time(file_path: str):\n",
      "    11                                               # Iniciar la sesión de Spark\n",
      "    12     63.7 MiB      0.8 MiB           4       spark = SparkSession.builder \\\n",
      "    13     62.9 MiB      0.0 MiB           1           .appName(\"TwitterDataProcessing\") \\\n",
      "    14     62.9 MiB      0.0 MiB           1           .config(\"spark.executor.memory\", \"2g\") \\\n",
      "    15     62.9 MiB      0.0 MiB           1           .config(\"spark.python.profile.memory\", True) \\\n",
      "    16                                                 .getOrCreate()\n",
      "    17                                         \n",
      "    18                                             # Leer el archivo JSON\n",
      "    19     63.7 MiB      0.0 MiB           1       df = spark.read.json(file_path)\n",
      "    20                                         \n",
      "    21                                             # Extraer la fecha y el usuario\n",
      "    22     63.7 MiB      0.0 MiB           2       df = df.withColumn(\"fecha\", date_format(col(\"date\"), 'yyyy-MM-dd')) \\\n",
      "    23     63.7 MiB      0.0 MiB           1              .withColumn(\"usuario\", col(\"user.username\"))\n",
      "    24                                         \n",
      "    25                                             # Contar los tweets por día y usuario\n",
      "    26     63.7 MiB      0.0 MiB           1       tweet_counts = df.groupBy(\"fecha\", \"usuario\").count()\n",
      "    27                                         \n",
      "    28                                             # Obtener los días con más tweets\n",
      "    29     63.7 MiB      0.0 MiB           1       top_days = tweet_counts.groupBy(\"fecha\").sum(\"count\").orderBy(\"sum(count)\", ascending=False).limit(10)\n",
      "    30                                         \n",
      "    31                                             # Ventana para obtener el usuario con más tweets por día\n",
      "    32     63.8 MiB      0.0 MiB           1       window_spec = Window.partitionBy(\"fecha\").orderBy(col(\"count\").desc())\n",
      "    33                                         \n",
      "    34                                             # Agregar el ranking de usuarios por número de tweets\n",
      "    35     63.8 MiB      0.0 MiB           1       ranked_users = tweet_counts.withColumn(\"rank\", F.rank().over(window_spec))\n",
      "    36                                         \n",
      "    37                                             # Filtrar para obtener solo los usuarios con más tweets por día\n",
      "    38     63.8 MiB      0.0 MiB           1       top_users = ranked_users.filter(col(\"rank\") == 1).select(\"fecha\", \"usuario\")\n",
      "    39                                         \n",
      "    40                                             # Unir los días con más tweets con los usuarios con más tweets en esos días\n",
      "    41     63.8 MiB      0.0 MiB           1       result_df = top_days.join(top_users, \"fecha\").select(\"fecha\", \"usuario\")\n",
      "    42                                         \n",
      "    43                                             # Convertir a formato de salida esperado\n",
      "    44     64.5 MiB      0.7 MiB          13       result = [(row.fecha, row.usuario) for row in result_df.collect()]\n",
      "    45                                         \n",
      "    46                                             # Detener la sesión de Spark\n",
      "    47     64.4 MiB     -0.0 MiB           1       spark.stop()\n",
      "    48                                         \n",
      "    49     64.4 MiB      0.0 MiB           1       return result\n",
      "\n",
      "\n",
      "[('2021-02-12', 'rebelpacifist'), ('2021-02-13', 'MaanDee08215437'), ('2021-02-14', 'Gurpreetd86'), ('2021-02-15', 'jot__b'), ('2021-02-16', 'jot__b'), ('2021-02-17', 'RaaJVinderkaur'), ('2021-02-18', 'neetuanjle_nitu'), ('2021-02-19', 'Preetm91'), ('2021-02-20', 'MangalJ23056160'), ('2021-02-23', 'preetysaini321')]\n",
      "Tiempo de ejecución: 15.66810417175293 segundos\n"
     ]
    },
    {
     "name": "stderr",
     "output_type": "stream",
     "text": [
      "                                                                                \r"
     ]
    }
   ],
   "source": [
    "%%bash\n",
    "cd ../\n",
    "make memprofile file=q1_time"
   ]
  }
 ],
 "metadata": {
  "kernelspec": {
   "display_name": "venv",
   "language": "python",
   "name": "python3"
  },
  "language_info": {
   "codemirror_mode": {
    "name": "ipython",
    "version": 3
   },
   "file_extension": ".py",
   "mimetype": "text/x-python",
   "name": "python",
   "nbconvert_exporter": "python",
   "pygments_lexer": "ipython3",
   "version": "3.8.19"
  },
  "orig_nbformat": 4
 },
 "nbformat": 4,
 "nbformat_minor": 2
}
